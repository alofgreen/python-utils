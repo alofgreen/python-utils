{
 "cells": [
  {
   "cell_type": "code",
   "execution_count": 12,
   "metadata": {
    "collapsed": true
   },
   "outputs": [],
   "source": [
    "from sklearn.datasets import load_iris\n",
    "from sklearn import datasets"
   ]
  },
  {
   "cell_type": "markdown",
   "metadata": {},
   "source": [
    "## Load Iris Dataset"
   ]
  },
  {
   "cell_type": "code",
   "execution_count": 26,
   "metadata": {
    "collapsed": true
   },
   "outputs": [],
   "source": [
    "# multi-class\n",
    "iris = load_iris()\n",
    "X_iris = iris.data\n",
    "y_iris = iris.target"
   ]
  },
  {
   "cell_type": "code",
   "execution_count": 27,
   "metadata": {},
   "outputs": [],
   "source": [
    "# binary\n",
    "breas_cancer = datasets.load_breast_cancer()\n",
    "X_bc = breas_cancer.data\n",
    "y_diab = breas_cancer.target"
   ]
  },
  {
   "cell_type": "markdown",
   "metadata": {},
   "source": [
    "## Create Class"
   ]
  },
  {
   "cell_type": "code",
   "execution_count": 44,
   "metadata": {},
   "outputs": [],
   "source": [
    "from sklearn.tree import DecisionTreeClassifier\n",
    "from sklearn.neural_network import MLPClassifier\n",
    "from sklearn.model_selection import cross_val_score\n",
    "        \n",
    "class classification(object):\n",
    "        \n",
    "    def __init__(self, dt_params = dict(), mlc_params = dict()):\n",
    "        self.criterion = dt_params.get('criterion', 'gini')\n",
    "        return None\n",
    "        \n",
    "    def dt(self):\n",
    "        self.dt = DecisionTreeClassifier(self.criterion, self.splitter, )\n",
    "        \n",
    "    def mlp(self):\n",
    "        self.mlp = MLPClassifier()"
   ]
  },
  {
   "cell_type": "code",
   "execution_count": null,
   "metadata": {
    "collapsed": true
   },
   "outputs": [],
   "source": [
    "dt_params = {'criterion' : 'gini',\n",
    "             'splitter' : 'best',\n",
    "             'max_depth' : None,\n",
    "             'min_sample_split' : 2,\n",
    "             'min_samples_leaf' : 1,\n",
    "             'min_weight_fraction_leaf' : 0.0,\n",
    "             'max_features' : None,\n",
    "             'random_state': None,\n",
    "             'max_leaf_nodes' : None,\n",
    "             'min_impurity_decrease' : 0.0,\n",
    "             'min_impurity_split' : None,\n",
    "             'class_weight' : None,\n",
    "             'presort' : False}"
   ]
  },
  {
   "cell_type": "code",
   "execution_count": 49,
   "metadata": {},
   "outputs": [],
   "source": [
    "test = classification(dt_params = {'criterion':'entropy'})"
   ]
  },
  {
   "cell_type": "code",
   "execution_count": 55,
   "metadata": {},
   "outputs": [],
   "source": [
    "test.decision_tree()"
   ]
  },
  {
   "cell_type": "code",
   "execution_count": 58,
   "metadata": {},
   "outputs": [],
   "source": [
    "t = ('hello', 123)"
   ]
  },
  {
   "cell_type": "code",
   "execution_count": 59,
   "metadata": {},
   "outputs": [
    {
     "ename": "SyntaxError",
     "evalue": "invalid syntax (<ipython-input-59-d3049bd1d689>, line 1)",
     "output_type": "error",
     "traceback": [
      "\u001b[0;36m  File \u001b[0;32m\"<ipython-input-59-d3049bd1d689>\"\u001b[0;36m, line \u001b[0;32m1\u001b[0m\n\u001b[0;31m    *t\u001b[0m\n\u001b[0m    ^\u001b[0m\n\u001b[0;31mSyntaxError\u001b[0m\u001b[0;31m:\u001b[0m invalid syntax\n"
     ]
    }
   ],
   "source": []
  },
  {
   "cell_type": "code",
   "execution_count": null,
   "metadata": {
    "collapsed": true
   },
   "outputs": [],
   "source": []
  }
 ],
 "metadata": {
  "kernelspec": {
   "display_name": "Python 2",
   "language": "python",
   "name": "python2"
  },
  "language_info": {
   "codemirror_mode": {
    "name": "ipython",
    "version": 2
   },
   "file_extension": ".py",
   "mimetype": "text/x-python",
   "name": "python",
   "nbconvert_exporter": "python",
   "pygments_lexer": "ipython2",
   "version": "2.7.14"
  }
 },
 "nbformat": 4,
 "nbformat_minor": 2
}
